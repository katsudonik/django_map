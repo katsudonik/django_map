{
 "cells": [
  {
   "cell_type": "code",
   "execution_count": 66,
   "metadata": {
    "collapsed": true
   },
   "outputs": [],
   "source": [
    "\n",
    "\n",
    "import numpy as np\n",
    "from numpy.random import *\n",
    "import math\n",
    "\n",
    "count = 12\n",
    "_lo = np.array(rand(count))\n",
    "#_la = _lo**3 \n",
    "\n",
    "lo = np.sort(_lo + 35) \n",
    "la = np.sort(_la + 139)\n",
    "points_d = np.c_[lo, la]"
   ]
  },
  {
   "cell_type": "code",
   "execution_count": 67,
   "metadata": {
    "collapsed": false
   },
   "outputs": [
    {
     "data": {
      "text/plain": [
       "array([[  35.04284278,  139.00009219],\n",
       "       [  35.07055809,  139.01102332],\n",
       "       [  35.20774397,  139.06712054],\n",
       "       [  35.21460654,  139.08093342],\n",
       "       [  35.31542717,  139.08189735],\n",
       "       [  35.39273798,  139.41540726],\n",
       "       [  35.40903135,  139.49514821],\n",
       "       [  35.5936361 ,  139.55688541],\n",
       "       [  35.6340929 ,  139.68057642],\n",
       "       [  35.71916896,  139.77313011],\n",
       "       [  35.97066384,  139.82231515],\n",
       "       [  35.98158423,  139.95840422]])"
      ]
     },
     "execution_count": 67,
     "metadata": {},
     "output_type": "execute_result"
    }
   ],
   "source": [
    "points_d"
   ]
  },
  {
   "cell_type": "code",
   "execution_count": 68,
   "metadata": {
    "collapsed": false
   },
   "outputs": [
    {
     "data": {
      "text/plain": [
       "35.96999512"
      ]
     },
     "execution_count": 68,
     "metadata": {},
     "output_type": "execute_result"
    }
   ],
   "source": [
    "35.99999512 - 0.03"
   ]
  },
  {
   "cell_type": "code",
   "execution_count": 69,
   "metadata": {
    "collapsed": false
   },
   "outputs": [
    {
     "data": {
      "text/plain": [
       "139.96998537"
      ]
     },
     "execution_count": 69,
     "metadata": {},
     "output_type": "execute_result"
    }
   ],
   "source": [
    "139.99998537 - 0.03"
   ]
  },
  {
   "cell_type": "code",
   "execution_count": 71,
   "metadata": {
    "collapsed": true
   },
   "outputs": [],
   "source": [
    "endpoint = np.array([35.31542717, 139.08189735]).astype(float)"
   ]
  },
  {
   "cell_type": "code",
   "execution_count": 72,
   "metadata": {
    "collapsed": false
   },
   "outputs": [
    {
     "data": {
      "text/plain": [
       "array([  35.31542717,  139.08189735])"
      ]
     },
     "execution_count": 72,
     "metadata": {},
     "output_type": "execute_result"
    }
   ],
   "source": [
    "endpoint"
   ]
  },
  {
   "cell_type": "code",
   "execution_count": 73,
   "metadata": {
    "collapsed": false
   },
   "outputs": [
    {
     "data": {
      "text/plain": [
       "array([[  2.72584390e-01,   8.18051573e-02],\n",
       "       [  2.44869080e-01,   7.08740323e-02],\n",
       "       [  1.07683201e-01,   1.47768105e-02],\n",
       "       [  1.00820628e-01,   9.63930743e-04],\n",
       "       [  9.57101065e-11,   2.46677700e-09],\n",
       "       [ -7.73108069e-02,  -3.33509908e-01],\n",
       "       [ -9.36041837e-02,  -4.13250860e-01],\n",
       "       [ -2.78208927e-01,  -4.74988062e-01],\n",
       "       [ -3.18665732e-01,  -5.98679067e-01],\n",
       "       [ -4.03741788e-01,  -6.91232757e-01],\n",
       "       [ -6.55236666e-01,  -7.40417796e-01],\n",
       "       [ -6.66157056e-01,  -8.76506868e-01]])"
      ]
     },
     "execution_count": 73,
     "metadata": {},
     "output_type": "execute_result"
    }
   ],
   "source": [
    "endpoint - points_d"
   ]
  },
  {
   "cell_type": "code",
   "execution_count": 74,
   "metadata": {
    "collapsed": false
   },
   "outputs": [
    {
     "data": {
      "text/plain": [
       "array([  35.28542717,  139.05189735])"
      ]
     },
     "execution_count": 74,
     "metadata": {},
     "output_type": "execute_result"
    }
   ],
   "source": [
    "endpoint - 0.03"
   ]
  },
  {
   "cell_type": "code",
   "execution_count": 75,
   "metadata": {
    "collapsed": false
   },
   "outputs": [
    {
     "data": {
      "text/plain": [
       "array([[ 0.24258439,  0.05180516],\n",
       "       [ 0.21486908,  0.04087403],\n",
       "       [ 0.0776832 , -0.01522319],\n",
       "       [ 0.07082063, -0.02903607],\n",
       "       [-0.03      , -0.03      ],\n",
       "       [-0.10731081, -0.36350991],\n",
       "       [-0.12360418, -0.44325086],\n",
       "       [-0.30820893, -0.50498806],\n",
       "       [-0.34866573, -0.62867907],\n",
       "       [-0.43374179, -0.72123276],\n",
       "       [-0.68523667, -0.7704178 ],\n",
       "       [-0.69615706, -0.90650687]])"
      ]
     },
     "execution_count": 75,
     "metadata": {},
     "output_type": "execute_result"
    }
   ],
   "source": [
    "endpoint - 0.03 - points_d"
   ]
  },
  {
   "cell_type": "code",
   "execution_count": 76,
   "metadata": {
    "collapsed": false
   },
   "outputs": [
    {
     "data": {
      "text/plain": [
       "array([[False, False],\n",
       "       [False, False],\n",
       "       [False,  True],\n",
       "       [False,  True],\n",
       "       [ True,  True],\n",
       "       [ True,  True],\n",
       "       [ True,  True],\n",
       "       [ True,  True],\n",
       "       [ True,  True],\n",
       "       [ True,  True],\n",
       "       [ True,  True],\n",
       "       [ True,  True]], dtype=bool)"
      ]
     },
     "execution_count": 76,
     "metadata": {},
     "output_type": "execute_result"
    }
   ],
   "source": [
    "(endpoint - 0.03 - points_d) < 0"
   ]
  },
  {
   "cell_type": "code",
   "execution_count": 77,
   "metadata": {
    "collapsed": false
   },
   "outputs": [
    {
     "data": {
      "text/plain": [
       "array([ 139.00009219,  139.01102332,  139.06712054,  139.08093342,\n",
       "        139.08189735,  139.41540726,  139.49514821,  139.55688541,\n",
       "        139.68057642,  139.77313011,  139.82231515,  139.95840422])"
      ]
     },
     "execution_count": 77,
     "metadata": {},
     "output_type": "execute_result"
    }
   ],
   "source": [
    "points_d[:,1]"
   ]
  },
  {
   "cell_type": "code",
   "execution_count": 78,
   "metadata": {
    "collapsed": false
   },
   "outputs": [
    {
     "data": {
      "text/plain": [
       "array([ 35.04284278,  35.07055809,  35.20774397,  35.21460654,\n",
       "        35.31542717,  35.39273798,  35.40903135,  35.5936361 ,\n",
       "        35.6340929 ,  35.71916896,  35.97066384,  35.98158423])"
      ]
     },
     "execution_count": 78,
     "metadata": {},
     "output_type": "execute_result"
    }
   ],
   "source": [
    "points_d[:,0]"
   ]
  },
  {
   "cell_type": "code",
   "execution_count": 79,
   "metadata": {
    "collapsed": false
   },
   "outputs": [
    {
     "data": {
      "text/plain": [
       "array([  2.72584390e-01,   2.44869080e-01,   1.07683201e-01,\n",
       "         1.00820628e-01,   9.57101065e-11,  -7.73108069e-02,\n",
       "        -9.36041837e-02,  -2.78208927e-01,  -3.18665732e-01,\n",
       "        -4.03741788e-01,  -6.55236666e-01,  -6.66157056e-01])"
      ]
     },
     "execution_count": 79,
     "metadata": {},
     "output_type": "execute_result"
    }
   ],
   "source": [
    "endpoint[0] - points_d[:,0]"
   ]
  },
  {
   "cell_type": "code",
   "execution_count": 80,
   "metadata": {
    "collapsed": false
   },
   "outputs": [
    {
     "data": {
      "text/plain": [
       "array([  8.18051573e-02,   7.08740323e-02,   1.47768105e-02,\n",
       "         9.63930743e-04,   2.46677700e-09,  -3.33509908e-01,\n",
       "        -4.13250860e-01,  -4.74988062e-01,  -5.98679067e-01,\n",
       "        -6.91232757e-01,  -7.40417796e-01,  -8.76506868e-01])"
      ]
     },
     "execution_count": 80,
     "metadata": {},
     "output_type": "execute_result"
    }
   ],
   "source": [
    "endpoint[1] - points_d[:,1]"
   ]
  },
  {
   "cell_type": "code",
   "execution_count": 81,
   "metadata": {
    "collapsed": false
   },
   "outputs": [
    {
     "data": {
      "text/plain": [
       "array([  7.43022498e-02,   5.99608664e-02,   1.15956718e-02,\n",
       "         1.01647990e-02,   9.16042449e-21,   5.97696086e-03,\n",
       "         8.76174320e-03,   7.74002072e-02,   1.01547849e-01,\n",
       "         1.63007431e-01,   4.29335089e-01,   4.43765223e-01])"
      ]
     },
     "execution_count": 81,
     "metadata": {},
     "output_type": "execute_result"
    }
   ],
   "source": [
    "np.square(endpoint[0] - points_d[:,0])"
   ]
  },
  {
   "cell_type": "code",
   "execution_count": 82,
   "metadata": {
    "collapsed": false
   },
   "outputs": [
    {
     "data": {
      "text/plain": [
       "array([  6.69208377e-03,   5.02312845e-03,   2.18354128e-04,\n",
       "         9.29162477e-07,   6.08498879e-18,   1.11228859e-01,\n",
       "         1.70776273e-01,   2.25613659e-01,   3.58416625e-01,\n",
       "         4.77802725e-01,   5.48218513e-01,   7.68264291e-01])"
      ]
     },
     "execution_count": 82,
     "metadata": {},
     "output_type": "execute_result"
    }
   ],
   "source": [
    "np.square(endpoint[1] - points_d[:,1])"
   ]
  },
  {
   "cell_type": "code",
   "execution_count": 83,
   "metadata": {
    "collapsed": false
   },
   "outputs": [
    {
     "data": {
      "text/plain": [
       "array([  2.84595034e-01,   2.54919585e-01,   1.08692345e-01,\n",
       "         1.00825236e-01,   2.46863307e-09,   3.42353355e-01,\n",
       "         4.23719266e-01,   5.50466953e-01,   6.78206808e-01,\n",
       "         8.00506187e-01,   9.88713104e-01,   1.10092212e+00])"
      ]
     },
     "execution_count": 83,
     "metadata": {},
     "output_type": "execute_result"
    }
   ],
   "source": [
    "np.sqrt(np.square(endpoint[0] - points_d[:,0]) + np.square(endpoint[1] - points_d[:,1]))"
   ]
  },
  {
   "cell_type": "code",
   "execution_count": 88,
   "metadata": {
    "collapsed": false
   },
   "outputs": [],
   "source": [
    "a = np.sqrt(np.square(endpoint[0] - points_d[:,0]) + np.square(endpoint[1] - points_d[:,1]))"
   ]
  },
  {
   "cell_type": "code",
   "execution_count": 90,
   "metadata": {
    "collapsed": false
   },
   "outputs": [
    {
     "data": {
      "text/plain": [
       "array([False, False,  True,  True,  True, False, False, False, False,\n",
       "       False, False, False], dtype=bool)"
      ]
     },
     "execution_count": 90,
     "metadata": {},
     "output_type": "execute_result"
    }
   ],
   "source": [
    "a < 0.2"
   ]
  },
  {
   "cell_type": "markdown",
   "metadata": {},
   "source": [
    "np.any(a < 0.2)"
   ]
  },
  {
   "cell_type": "code",
   "execution_count": 89,
   "metadata": {
    "collapsed": false
   },
   "outputs": [
    {
     "data": {
      "text/plain": [
       "True"
      ]
     },
     "execution_count": 89,
     "metadata": {},
     "output_type": "execute_result"
    }
   ],
   "source": [
    "np.any(a < 0.2)"
   ]
  },
  {
   "cell_type": "code",
   "execution_count": null,
   "metadata": {
    "collapsed": true
   },
   "outputs": [],
   "source": []
  }
 ],
 "metadata": {
  "kernelspec": {
   "display_name": "Python 3",
   "language": "python",
   "name": "python3"
  },
  "language_info": {
   "codemirror_mode": {
    "name": "ipython",
    "version": 3
   },
   "file_extension": ".py",
   "mimetype": "text/x-python",
   "name": "python",
   "nbconvert_exporter": "python",
   "pygments_lexer": "ipython3",
   "version": "3.6.0"
  }
 },
 "nbformat": 4,
 "nbformat_minor": 2
}
